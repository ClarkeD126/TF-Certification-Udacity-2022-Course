{
 "cells": [
  {
   "cell_type": "code",
   "execution_count": 3,
   "metadata": {},
   "outputs": [
    {
     "ename": "ValueError",
     "evalue": "Input 0 of layer \"conv3d\" is incompatible with the layer: expected min_ndim=5, found ndim=4. Full shape received: (None, 224, 224, 3)",
     "output_type": "error",
     "traceback": [
      "\u001b[1;31m---------------------------------------------------------------------------\u001b[0m",
      "\u001b[1;31mValueError\u001b[0m                                Traceback (most recent call last)",
      "\u001b[1;32mc:\\Users\\clark\\TF-Certification-Udacity-2022-Course\\MNIST\\Handwritten\\Digits revisted.ipynb Cell 1\u001b[0m in \u001b[0;36m<cell line: 39>\u001b[1;34m()\u001b[0m\n\u001b[0;32m     <a href='vscode-notebook-cell:/c%3A/Users/clark/TF-Certification-Udacity-2022-Course/MNIST/Handwritten/Digits%20revisted.ipynb#W0sZmlsZQ%3D%3D?line=35'>36</a>\u001b[0m     \u001b[39mreturn\u001b[39;00m train_batch, val_batch\n\u001b[0;32m     <a href='vscode-notebook-cell:/c%3A/Users/clark/TF-Certification-Udacity-2022-Course/MNIST/Handwritten/Digits%20revisted.ipynb#W0sZmlsZQ%3D%3D?line=37'>38</a>\u001b[0m train_data, val_data, info, num_examples \u001b[39m=\u001b[39m define_dataset()\n\u001b[1;32m---> <a href='vscode-notebook-cell:/c%3A/Users/clark/TF-Certification-Udacity-2022-Course/MNIST/Handwritten/Digits%20revisted.ipynb#W0sZmlsZQ%3D%3D?line=38'>39</a>\u001b[0m m\u001b[39m=\u001b[39mdefine_model()\n\u001b[0;32m     <a href='vscode-notebook-cell:/c%3A/Users/clark/TF-Certification-Udacity-2022-Course/MNIST/Handwritten/Digits%20revisted.ipynb#W0sZmlsZQ%3D%3D?line=39'>40</a>\u001b[0m train_batch, val_batch \u001b[39m=\u001b[39m preprocess_data()\n\u001b[0;32m     <a href='vscode-notebook-cell:/c%3A/Users/clark/TF-Certification-Udacity-2022-Course/MNIST/Handwritten/Digits%20revisted.ipynb#W0sZmlsZQ%3D%3D?line=40'>41</a>\u001b[0m history \u001b[39m=\u001b[39m m\u001b[39m.\u001b[39mfit(train_batch, \n\u001b[0;32m     <a href='vscode-notebook-cell:/c%3A/Users/clark/TF-Certification-Udacity-2022-Course/MNIST/Handwritten/Digits%20revisted.ipynb#W0sZmlsZQ%3D%3D?line=41'>42</a>\u001b[0m                 validation_data\u001b[39m=\u001b[39mval_batch, \n\u001b[0;32m     <a href='vscode-notebook-cell:/c%3A/Users/clark/TF-Certification-Udacity-2022-Course/MNIST/Handwritten/Digits%20revisted.ipynb#W0sZmlsZQ%3D%3D?line=42'>43</a>\u001b[0m                 verbose\u001b[39m=\u001b[39m\u001b[39m2\u001b[39m, epochs\u001b[39m=\u001b[39mEPOCHS )\n",
      "\u001b[1;32mc:\\Users\\clark\\TF-Certification-Udacity-2022-Course\\MNIST\\Handwritten\\Digits revisted.ipynb Cell 1\u001b[0m in \u001b[0;36mdefine_model\u001b[1;34m()\u001b[0m\n\u001b[0;32m     <a href='vscode-notebook-cell:/c%3A/Users/clark/TF-Certification-Udacity-2022-Course/MNIST/Handwritten/Digits%20revisted.ipynb#W0sZmlsZQ%3D%3D?line=18'>19</a>\u001b[0m \u001b[39mdef\u001b[39;00m \u001b[39mdefine_model\u001b[39m():\n\u001b[1;32m---> <a href='vscode-notebook-cell:/c%3A/Users/clark/TF-Certification-Udacity-2022-Course/MNIST/Handwritten/Digits%20revisted.ipynb#W0sZmlsZQ%3D%3D?line=19'>20</a>\u001b[0m     model \u001b[39m=\u001b[39m tf\u001b[39m.\u001b[39;49mkeras\u001b[39m.\u001b[39;49mSequential([\n\u001b[0;32m     <a href='vscode-notebook-cell:/c%3A/Users/clark/TF-Certification-Udacity-2022-Course/MNIST/Handwritten/Digits%20revisted.ipynb#W0sZmlsZQ%3D%3D?line=20'>21</a>\u001b[0m         tf\u001b[39m.\u001b[39;49mkeras\u001b[39m.\u001b[39;49mlayers\u001b[39m.\u001b[39;49mConv3D(\u001b[39m32\u001b[39;49m, (\u001b[39m3\u001b[39;49m,\u001b[39m3\u001b[39;49m,\u001b[39m3\u001b[39;49m), input_shape\u001b[39m=\u001b[39;49m(\u001b[39m224\u001b[39;49m,\u001b[39m224\u001b[39;49m,\u001b[39m3\u001b[39;49m)),\n\u001b[0;32m     <a href='vscode-notebook-cell:/c%3A/Users/clark/TF-Certification-Udacity-2022-Course/MNIST/Handwritten/Digits%20revisted.ipynb#W0sZmlsZQ%3D%3D?line=21'>22</a>\u001b[0m         tf\u001b[39m.\u001b[39;49mkeras\u001b[39m.\u001b[39;49mlayers\u001b[39m.\u001b[39;49mDepthwiseConv2D(\u001b[39m32\u001b[39;49m, (\u001b[39m3\u001b[39;49m,\u001b[39m3\u001b[39;49m), input_shape\u001b[39m=\u001b[39;49m(\u001b[39m112\u001b[39;49m,\u001b[39m112\u001b[39;49m,\u001b[39m32\u001b[39;49m)),\n\u001b[0;32m     <a href='vscode-notebook-cell:/c%3A/Users/clark/TF-Certification-Udacity-2022-Course/MNIST/Handwritten/Digits%20revisted.ipynb#W0sZmlsZQ%3D%3D?line=22'>23</a>\u001b[0m \n\u001b[0;32m     <a href='vscode-notebook-cell:/c%3A/Users/clark/TF-Certification-Udacity-2022-Course/MNIST/Handwritten/Digits%20revisted.ipynb#W0sZmlsZQ%3D%3D?line=23'>24</a>\u001b[0m         \u001b[39m#hub.KerasLayer(_URL, input_shape=(224,224,3)),\u001b[39;49;00m\n\u001b[0;32m     <a href='vscode-notebook-cell:/c%3A/Users/clark/TF-Certification-Udacity-2022-Course/MNIST/Handwritten/Digits%20revisted.ipynb#W0sZmlsZQ%3D%3D?line=24'>25</a>\u001b[0m         tf\u001b[39m.\u001b[39;49mkeras\u001b[39m.\u001b[39;49mlayers\u001b[39m.\u001b[39;49mDense(\u001b[39m10\u001b[39;49m, activation\u001b[39m=\u001b[39;49m\u001b[39m'\u001b[39;49m\u001b[39msoftmax\u001b[39;49m\u001b[39m'\u001b[39;49m)\n\u001b[0;32m     <a href='vscode-notebook-cell:/c%3A/Users/clark/TF-Certification-Udacity-2022-Course/MNIST/Handwritten/Digits%20revisted.ipynb#W0sZmlsZQ%3D%3D?line=25'>26</a>\u001b[0m     ])\n\u001b[0;32m     <a href='vscode-notebook-cell:/c%3A/Users/clark/TF-Certification-Udacity-2022-Course/MNIST/Handwritten/Digits%20revisted.ipynb#W0sZmlsZQ%3D%3D?line=26'>27</a>\u001b[0m     model\u001b[39m.\u001b[39mcompile(metrics\u001b[39m=\u001b[39m[\u001b[39m'\u001b[39m\u001b[39maccuracy\u001b[39m\u001b[39m'\u001b[39m], loss\u001b[39m=\u001b[39mtf\u001b[39m.\u001b[39mkeras\u001b[39m.\u001b[39mlosses\u001b[39m.\u001b[39mSparseCategoricalCrossentropy(), \n\u001b[0;32m     <a href='vscode-notebook-cell:/c%3A/Users/clark/TF-Certification-Udacity-2022-Course/MNIST/Handwritten/Digits%20revisted.ipynb#W0sZmlsZQ%3D%3D?line=27'>28</a>\u001b[0m                 optimizer\u001b[39m=\u001b[39mtf\u001b[39m.\u001b[39mkeras\u001b[39m.\u001b[39moptimizers\u001b[39m.\u001b[39mAdam())\n\u001b[0;32m     <a href='vscode-notebook-cell:/c%3A/Users/clark/TF-Certification-Udacity-2022-Course/MNIST/Handwritten/Digits%20revisted.ipynb#W0sZmlsZQ%3D%3D?line=28'>29</a>\u001b[0m     model\u001b[39m.\u001b[39msummary()\n",
      "File \u001b[1;32mc:\\ProgramData\\Anaconda3\\envs\\data_sci\\lib\\site-packages\\tensorflow\\python\\training\\tracking\\base.py:587\u001b[0m, in \u001b[0;36mno_automatic_dependency_tracking.<locals>._method_wrapper\u001b[1;34m(self, *args, **kwargs)\u001b[0m\n\u001b[0;32m    585\u001b[0m \u001b[39mself\u001b[39m\u001b[39m.\u001b[39m_self_setattr_tracking \u001b[39m=\u001b[39m \u001b[39mFalse\u001b[39;00m  \u001b[39m# pylint: disable=protected-access\u001b[39;00m\n\u001b[0;32m    586\u001b[0m \u001b[39mtry\u001b[39;00m:\n\u001b[1;32m--> 587\u001b[0m   result \u001b[39m=\u001b[39m method(\u001b[39mself\u001b[39m, \u001b[39m*\u001b[39margs, \u001b[39m*\u001b[39m\u001b[39m*\u001b[39mkwargs)\n\u001b[0;32m    588\u001b[0m \u001b[39mfinally\u001b[39;00m:\n\u001b[0;32m    589\u001b[0m   \u001b[39mself\u001b[39m\u001b[39m.\u001b[39m_self_setattr_tracking \u001b[39m=\u001b[39m previous_value  \u001b[39m# pylint: disable=protected-access\u001b[39;00m\n",
      "File \u001b[1;32mc:\\ProgramData\\Anaconda3\\envs\\data_sci\\lib\\site-packages\\keras\\utils\\traceback_utils.py:67\u001b[0m, in \u001b[0;36mfilter_traceback.<locals>.error_handler\u001b[1;34m(*args, **kwargs)\u001b[0m\n\u001b[0;32m     65\u001b[0m \u001b[39mexcept\u001b[39;00m \u001b[39mException\u001b[39;00m \u001b[39mas\u001b[39;00m e:  \u001b[39m# pylint: disable=broad-except\u001b[39;00m\n\u001b[0;32m     66\u001b[0m   filtered_tb \u001b[39m=\u001b[39m _process_traceback_frames(e\u001b[39m.\u001b[39m__traceback__)\n\u001b[1;32m---> 67\u001b[0m   \u001b[39mraise\u001b[39;00m e\u001b[39m.\u001b[39mwith_traceback(filtered_tb) \u001b[39mfrom\u001b[39;00m \u001b[39mNone\u001b[39m\n\u001b[0;32m     68\u001b[0m \u001b[39mfinally\u001b[39;00m:\n\u001b[0;32m     69\u001b[0m   \u001b[39mdel\u001b[39;00m filtered_tb\n",
      "File \u001b[1;32mc:\\ProgramData\\Anaconda3\\envs\\data_sci\\lib\\site-packages\\keras\\engine\\input_spec.py:228\u001b[0m, in \u001b[0;36massert_input_compatibility\u001b[1;34m(input_spec, inputs, layer_name)\u001b[0m\n\u001b[0;32m    226\u001b[0m   ndim \u001b[39m=\u001b[39m x\u001b[39m.\u001b[39mshape\u001b[39m.\u001b[39mrank\n\u001b[0;32m    227\u001b[0m   \u001b[39mif\u001b[39;00m ndim \u001b[39mis\u001b[39;00m \u001b[39mnot\u001b[39;00m \u001b[39mNone\u001b[39;00m \u001b[39mand\u001b[39;00m ndim \u001b[39m<\u001b[39m spec\u001b[39m.\u001b[39mmin_ndim:\n\u001b[1;32m--> 228\u001b[0m     \u001b[39mraise\u001b[39;00m \u001b[39mValueError\u001b[39;00m(\u001b[39mf\u001b[39m\u001b[39m'\u001b[39m\u001b[39mInput \u001b[39m\u001b[39m{\u001b[39;00minput_index\u001b[39m}\u001b[39;00m\u001b[39m of layer \u001b[39m\u001b[39m\"\u001b[39m\u001b[39m{\u001b[39;00mlayer_name\u001b[39m}\u001b[39;00m\u001b[39m\"\u001b[39m\u001b[39m \u001b[39m\u001b[39m'\u001b[39m\n\u001b[0;32m    229\u001b[0m                      \u001b[39m'\u001b[39m\u001b[39mis incompatible with the layer: \u001b[39m\u001b[39m'\u001b[39m\n\u001b[0;32m    230\u001b[0m                      \u001b[39mf\u001b[39m\u001b[39m'\u001b[39m\u001b[39mexpected min_ndim=\u001b[39m\u001b[39m{\u001b[39;00mspec\u001b[39m.\u001b[39mmin_ndim\u001b[39m}\u001b[39;00m\u001b[39m, \u001b[39m\u001b[39m'\u001b[39m\n\u001b[0;32m    231\u001b[0m                      \u001b[39mf\u001b[39m\u001b[39m'\u001b[39m\u001b[39mfound ndim=\u001b[39m\u001b[39m{\u001b[39;00mndim\u001b[39m}\u001b[39;00m\u001b[39m. \u001b[39m\u001b[39m'\u001b[39m\n\u001b[0;32m    232\u001b[0m                      \u001b[39mf\u001b[39m\u001b[39m'\u001b[39m\u001b[39mFull shape received: \u001b[39m\u001b[39m{\u001b[39;00m\u001b[39mtuple\u001b[39m(shape)\u001b[39m}\u001b[39;00m\u001b[39m'\u001b[39m)\n\u001b[0;32m    233\u001b[0m \u001b[39m# Check dtype.\u001b[39;00m\n\u001b[0;32m    234\u001b[0m \u001b[39mif\u001b[39;00m spec\u001b[39m.\u001b[39mdtype \u001b[39mis\u001b[39;00m \u001b[39mnot\u001b[39;00m \u001b[39mNone\u001b[39;00m:\n",
      "\u001b[1;31mValueError\u001b[0m: Input 0 of layer \"conv3d\" is incompatible with the layer: expected min_ndim=5, found ndim=4. Full shape received: (None, 224, 224, 3)"
     ]
    }
   ],
   "source": [
    "import tensorflow_datasets as tfds\n",
    "import tensorflow as tf\n",
    "import numpy as np\n",
    "import matplotlib.pyplot as plt\n",
    "import tensorflow_hub as hub\n",
    "\n",
    "def define_dataset():\n",
    "    (train_data, val_data), info = tfds.load('cats_vs_dogs', split=['train[:80%]', 'train[80%:]'],\n",
    "                                                                 with_info=True, as_supervised=True)\n",
    "    num_examples = info.splits['train'].num_examples\n",
    "    return train_data, val_data, info, num_examples\n",
    "\n",
    "EPOCHS=5\n",
    "BATCH=40\n",
    "RES=224\n",
    "#_URL=\"https://tfhub.dev/google/imagenet/resnet_v2_152/classification/5\"\n",
    "_URL=\"https://tfhub.dev/google/imagenet/resnet_v2_50/feature_vector/5\"\n",
    "\n",
    "def define_model():\n",
    "    model = tf.keras.Sequential([\n",
    "        hub.KerasLayer(_URL, input_shape=(224,224,3)),\n",
    "        tf.keras.layers.Dense(2, activation='softmax')\n",
    "    ])\n",
    "    model.compile(metrics=['accuracy'], loss=tf.keras.losses.SparseCategoricalCrossentropy(), \n",
    "                optimizer=tf.keras.optimizers.Adam())\n",
    "    model.summary()\n",
    "    return model\n",
    "\n",
    "def preprocess_data():\n",
    "    normalize = lambda data, labels: (tf.image.resize(data, (RES, RES))/255.0, labels)\n",
    "    train_batch = train_data.shuffle(num_examples//4).map(normalize).batch(BATCH).prefetch(tf.data.AUTOTUNE)\n",
    "    val_batch = val_data.map(normalize).batch(BATCH).prefetch(tf.data.AUTOTUNE)\n",
    "    return train_batch, val_batch\n",
    "\n",
    "train_data, val_data, info, num_examples = define_dataset()\n",
    "m=define_model()\n",
    "train_batch, val_batch = preprocess_data()\n",
    "history = m.fit(train_batch, \n",
    "                validation_data=val_batch, callbacks=tf.keras.callbacks.EarlyStopping(patience=1),\n",
    "                verbose=2, epochs=EPOCHS)\n",
    "\n",
    "def summarize_diagnostics(hist):\n",
    "    plt.figure(figsize=(10,12))\n",
    "    plt.subplot(1,2,1)\n",
    "    acc = hist.history['accuracy']\n",
    "    val_acc = hist.history['val_accuracy']\n",
    "    loss = hist.history['loss']\n",
    "    val_loss = hist.history['val_loss']\n",
    "    plt.plot(acc, label='Training Accuracy')\n",
    "    plt.plot(val_acc, label='Val Accuracy')\n",
    "    plt.legend(loc='upper right')\n",
    "    plt.subplot(1,2,2)\n",
    "    plt.plot(loss, label='Training Loss')\n",
    "    plt.plot(val_loss, label='Validation Loss')\n",
    "    plt.title('Summary ResNet')\n",
    "    plt.legend(loc='upper right')\n",
    "    plt.show()\n",
    "summarize_diagnostics(history)\n"
   ]
  },
  {
   "cell_type": "code",
   "execution_count": null,
   "metadata": {},
   "outputs": [],
   "source": []
  }
 ],
 "metadata": {
  "kernelspec": {
   "display_name": "Python 3.10.4 ('data_sci')",
   "language": "python",
   "name": "python3"
  },
  "language_info": {
   "codemirror_mode": {
    "name": "ipython",
    "version": 3
   },
   "file_extension": ".py",
   "mimetype": "text/x-python",
   "name": "python",
   "nbconvert_exporter": "python",
   "pygments_lexer": "ipython3",
   "version": "3.10.4 | packaged by conda-forge | (main, Mar 30 2022, 08:38:02) [MSC v.1916 64 bit (AMD64)]"
  },
  "orig_nbformat": 4,
  "vscode": {
   "interpreter": {
    "hash": "d63963d85136318b9f49e6cdc246fa710d8d44bb87bdde67353211b53794eecd"
   }
  }
 },
 "nbformat": 4,
 "nbformat_minor": 2
}
