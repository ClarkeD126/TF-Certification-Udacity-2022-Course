{
 "cells": [
  {
   "cell_type": "code",
   "execution_count": 63,
   "metadata": {},
   "outputs": [
    {
     "name": "stdout",
     "output_type": "stream",
     "text": [
      "Model: \"sequential_58\"\n",
      "_________________________________________________________________\n",
      " Layer (type)                Output Shape              Param #   \n",
      "=================================================================\n",
      " keras_layer_58 (KerasLayer)  (None, 1001)             3540265   \n",
      "                                                                 \n",
      "=================================================================\n",
      "Total params: 3,540,265\n",
      "Trainable params: 0\n",
      "Non-trainable params: 3,540,265\n",
      "_________________________________________________________________\n",
      "1/1 [==============================] - 0s 337ms/step\n",
      "['military uniform']\n"
     ]
    }
   ],
   "source": [
    "import matplotlib.pyplot as plt\n",
    "import numpy as np\n",
    "\n",
    "import tensorflow_datasets as tfds\n",
    "import tensorflow_hub as hub\n",
    "import tensorflow as tf\n",
    "import PIL.Image as Image\n",
    "import os\n",
    "from os.path import join, dirname\n",
    "_URL = \"https://tfhub.dev/google/tf2-preview/mobilenet_v2/classification/4\"\n",
    "RES=224\n",
    "# MobileNet expects 224x224x3\n",
    "\n",
    "model = tf.keras.Sequential([\n",
    "    hub.KerasLayer(_URL, input_shape=(RES, RES, 3))\n",
    "])\n",
    "model.summary()\n",
    "grace_hopper = tf.keras.utils.get_file('image.jpg','https://storage.googleapis.com/download.tensorflow.org/example_images/grace_hopper.jpg')\n",
    "grace_hopper = Image.open(grace_hopper).resize((RES, RES))\n",
    "\n",
    "\n",
    "grace_hopper=np.array(grace_hopper)/255.0\n",
    "grace_hopper.shape\n",
    "\n",
    "result=model.predict(grace_hopper[np.newaxis, ...])\n",
    "\n",
    "result=np.argmax(result, axis=-1)\n",
    "result\n",
    "\n",
    "labels_path = tf.keras.utils.get_file('ImageNetLabels.txt','https://storage.googleapis.com/download.tensorflow.org/data/ImageNetLabels.txt')\n",
    "imagenet_labels = np.array(open(labels_path).read().splitlines())\n",
    "\n",
    "print(imagenet_labels[result])\n",
    "\n",
    "(train_data, val_data), meta = tfds.load(\n",
    "    'cats_vs_dogs',\n",
    "    with_info=True,\n",
    "    as_supervised=True,\n",
    "    split=['train[:80%]', 'train[80%:]']\n",
    ")\n",
    "\n",
    "normalize= lambda x, y: (tf.image.resize(x, (RES,RES))/255.0, y)\n",
    "num_train=meta.splits['train'].num_examples\n",
    "\n",
    "BATCH=32\n",
    "\n",
    "train_batches=train_data.shuffle(num_train//4).map(normalize).batch(BATCH).prefetch(1)\n",
    "val_batches=val_data.map(normalize).batch(BATCH).prefetch(1) \n"
   ]
  },
  {
   "cell_type": "code",
   "execution_count": null,
   "metadata": {},
   "outputs": [],
   "source": []
  }
 ],
 "metadata": {
  "kernelspec": {
   "display_name": "Python 3.10.4 ('data_sci')",
   "language": "python",
   "name": "python3"
  },
  "language_info": {
   "codemirror_mode": {
    "name": "ipython",
    "version": 3
   },
   "file_extension": ".py",
   "mimetype": "text/x-python",
   "name": "python",
   "nbconvert_exporter": "python",
   "pygments_lexer": "ipython3",
   "version": "3.10.4"
  },
  "orig_nbformat": 4,
  "vscode": {
   "interpreter": {
    "hash": "d63963d85136318b9f49e6cdc246fa710d8d44bb87bdde67353211b53794eecd"
   }
  }
 },
 "nbformat": 4,
 "nbformat_minor": 2
}
