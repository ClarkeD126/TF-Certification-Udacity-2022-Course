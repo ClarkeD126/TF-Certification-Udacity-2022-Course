{
 "cells": [
  {
   "cell_type": "code",
   "execution_count": 3,
   "metadata": {},
   "outputs": [
    {
     "ename": "AttributeError",
     "evalue": "'ImageDataGenerator' object has no attribute 'flow_from'",
     "output_type": "error",
     "traceback": [
      "\u001b[1;31m---------------------------------------------------------------------------\u001b[0m",
      "\u001b[1;31mAttributeError\u001b[0m                            Traceback (most recent call last)",
      "\u001b[1;32mc:\\Users\\clark\\TF-Certification-Udacity-2022-Course\\Flowers Exercise.ipynb Cell 1\u001b[0m in \u001b[0;36m<cell line: 23>\u001b[1;34m()\u001b[0m\n\u001b[0;32m     <a href='vscode-notebook-cell:/c%3A/Users/clark/TF-Certification-Udacity-2022-Course/Flowers%20Exercise.ipynb#W0sZmlsZQ%3D%3D?line=14'>15</a>\u001b[0m zip_file \u001b[39m=\u001b[39m tf\u001b[39m.\u001b[39mkeras\u001b[39m.\u001b[39mutils\u001b[39m.\u001b[39mget_file(origin\u001b[39m=\u001b[39m_URL,\n\u001b[0;32m     <a href='vscode-notebook-cell:/c%3A/Users/clark/TF-Certification-Udacity-2022-Course/Flowers%20Exercise.ipynb#W0sZmlsZQ%3D%3D?line=15'>16</a>\u001b[0m                                     fname\u001b[39m=\u001b[39m\u001b[39m\"\u001b[39m\u001b[39mflower_photos.tgz\u001b[39m\u001b[39m\"\u001b[39m,\n\u001b[0;32m     <a href='vscode-notebook-cell:/c%3A/Users/clark/TF-Certification-Udacity-2022-Course/Flowers%20Exercise.ipynb#W0sZmlsZQ%3D%3D?line=16'>17</a>\u001b[0m                                     extract\u001b[39m=\u001b[39m\u001b[39mTrue\u001b[39;00m)\n\u001b[0;32m     <a href='vscode-notebook-cell:/c%3A/Users/clark/TF-Certification-Udacity-2022-Course/Flowers%20Exercise.ipynb#W0sZmlsZQ%3D%3D?line=18'>19</a>\u001b[0m base_dir\u001b[39m=\u001b[39mos\u001b[39m.\u001b[39mpath\u001b[39m.\u001b[39mdirname(zip_file)\n\u001b[1;32m---> <a href='vscode-notebook-cell:/c%3A/Users/clark/TF-Certification-Udacity-2022-Course/Flowers%20Exercise.ipynb#W0sZmlsZQ%3D%3D?line=22'>23</a>\u001b[0m \u001b[39mclass\u001b[39;00m \u001b[39mPreprocessing\u001b[39;00m():\n\u001b[0;32m     <a href='vscode-notebook-cell:/c%3A/Users/clark/TF-Certification-Udacity-2022-Course/Flowers%20Exercise.ipynb#W0sZmlsZQ%3D%3D?line=23'>24</a>\u001b[0m     \u001b[39mdef\u001b[39;00m \u001b[39mplot_image\u001b[39m(x_arr, size\u001b[39m=\u001b[39m\u001b[39m100\u001b[39m):\n\u001b[0;32m     <a href='vscode-notebook-cell:/c%3A/Users/clark/TF-Certification-Udacity-2022-Course/Flowers%20Exercise.ipynb#W0sZmlsZQ%3D%3D?line=24'>25</a>\u001b[0m         \u001b[39m#Graph image layout is a square, so size arg must be a perfect square.\u001b[39;00m\n\u001b[0;32m     <a href='vscode-notebook-cell:/c%3A/Users/clark/TF-Certification-Udacity-2022-Course/Flowers%20Exercise.ipynb#W0sZmlsZQ%3D%3D?line=25'>26</a>\u001b[0m         fig\u001b[39m=\u001b[39mplt\u001b[39m.\u001b[39mfigure(figsize\u001b[39m=\u001b[39m(\u001b[39m15\u001b[39m,\u001b[39m15\u001b[39m))\n",
      "\u001b[1;32mc:\\Users\\clark\\TF-Certification-Udacity-2022-Course\\Flowers Exercise.ipynb Cell 1\u001b[0m in \u001b[0;36mPreprocessing\u001b[1;34m()\u001b[0m\n\u001b[0;32m     <a href='vscode-notebook-cell:/c%3A/Users/clark/TF-Certification-Udacity-2022-Course/Flowers%20Exercise.ipynb#W0sZmlsZQ%3D%3D?line=34'>35</a>\u001b[0m     data_gen \u001b[39m=\u001b[39m ImageDataGenerator(\n\u001b[0;32m     <a href='vscode-notebook-cell:/c%3A/Users/clark/TF-Certification-Udacity-2022-Course/Flowers%20Exercise.ipynb#W0sZmlsZQ%3D%3D?line=35'>36</a>\u001b[0m         shear_range\u001b[39m=\u001b[39m\u001b[39m0.2\u001b[39m,\n\u001b[0;32m     <a href='vscode-notebook-cell:/c%3A/Users/clark/TF-Certification-Udacity-2022-Course/Flowers%20Exercise.ipynb#W0sZmlsZQ%3D%3D?line=36'>37</a>\u001b[0m         rotation_range\u001b[39m=\u001b[39m\u001b[39m40\u001b[39m,\n\u001b[1;32m   (...)\u001b[0m\n\u001b[0;32m     <a href='vscode-notebook-cell:/c%3A/Users/clark/TF-Certification-Udacity-2022-Course/Flowers%20Exercise.ipynb#W0sZmlsZQ%3D%3D?line=42'>43</a>\u001b[0m         rescale\u001b[39m=\u001b[39m(\u001b[39m1.\u001b[39m\u001b[39m/\u001b[39m\u001b[39m255\u001b[39m)\n\u001b[0;32m     <a href='vscode-notebook-cell:/c%3A/Users/clark/TF-Certification-Udacity-2022-Course/Flowers%20Exercise.ipynb#W0sZmlsZQ%3D%3D?line=43'>44</a>\u001b[0m     )\n\u001b[0;32m     <a href='vscode-notebook-cell:/c%3A/Users/clark/TF-Certification-Udacity-2022-Course/Flowers%20Exercise.ipynb#W0sZmlsZQ%3D%3D?line=44'>45</a>\u001b[0m     val_data_gen \u001b[39m=\u001b[39m ImageDataGenerator(rescale\u001b[39m=\u001b[39m\u001b[39m1.\u001b[39m\u001b[39m/\u001b[39m\u001b[39m255\u001b[39m)\n\u001b[1;32m---> <a href='vscode-notebook-cell:/c%3A/Users/clark/TF-Certification-Udacity-2022-Course/Flowers%20Exercise.ipynb#W0sZmlsZQ%3D%3D?line=46'>47</a>\u001b[0m     train_data_gen \u001b[39m=\u001b[39m data_gen\u001b[39m.\u001b[39;49mflow_from\n\u001b[0;32m     <a href='vscode-notebook-cell:/c%3A/Users/clark/TF-Certification-Udacity-2022-Course/Flowers%20Exercise.ipynb#W0sZmlsZQ%3D%3D?line=50'>51</a>\u001b[0m \u001b[39m#class Model(): \u001b[39;00m\n\u001b[0;32m     <a href='vscode-notebook-cell:/c%3A/Users/clark/TF-Certification-Udacity-2022-Course/Flowers%20Exercise.ipynb#W0sZmlsZQ%3D%3D?line=51'>52</a>\u001b[0m     model\u001b[39m=\u001b[39mtf\u001b[39m.\u001b[39mkeras\u001b[39m.\u001b[39mSequential([\n\u001b[0;32m     <a href='vscode-notebook-cell:/c%3A/Users/clark/TF-Certification-Udacity-2022-Course/Flowers%20Exercise.ipynb#W0sZmlsZQ%3D%3D?line=52'>53</a>\u001b[0m         tf\u001b[39m.\u001b[39mkeras\u001b[39m.\u001b[39mlayers\u001b[39m.\u001b[39mConv2D(\u001b[39m32\u001b[39m, KERNEL_SHAPE, activation\u001b[39m=\u001b[39m\u001b[39m'\u001b[39m\u001b[39mrelu\u001b[39m\u001b[39m'\u001b[39m, input_shape\u001b[39m=\u001b[39m(IMG_SHAPE), kernel_initalizer\u001b[39m=\u001b[39m\u001b[39m'\u001b[39m\u001b[39mhe_uniform\u001b[39m\u001b[39m'\u001b[39m),\n\u001b[0;32m     <a href='vscode-notebook-cell:/c%3A/Users/clark/TF-Certification-Udacity-2022-Course/Flowers%20Exercise.ipynb#W0sZmlsZQ%3D%3D?line=53'>54</a>\u001b[0m         tf\u001b[39m.\u001b[39mkeras\u001b[39m.\u001b[39mlayers\u001b[39m.\u001b[39mMaxPool2D((\u001b[39m2\u001b[39m,\u001b[39m2\u001b[39m)),\n\u001b[1;32m   (...)\u001b[0m\n\u001b[0;32m     <a href='vscode-notebook-cell:/c%3A/Users/clark/TF-Certification-Udacity-2022-Course/Flowers%20Exercise.ipynb#W0sZmlsZQ%3D%3D?line=65'>66</a>\u001b[0m         tf\u001b[39m.\u001b[39mkeras\u001b[39m.\u001b[39mlayers\u001b[39m.\u001b[39mDense(\u001b[39m5\u001b[39m, activation\u001b[39m=\u001b[39m\u001b[39m'\u001b[39m\u001b[39msoftmax\u001b[39m\u001b[39m'\u001b[39m)\n\u001b[0;32m     <a href='vscode-notebook-cell:/c%3A/Users/clark/TF-Certification-Udacity-2022-Course/Flowers%20Exercise.ipynb#W0sZmlsZQ%3D%3D?line=66'>67</a>\u001b[0m     ])\n",
      "\u001b[1;31mAttributeError\u001b[0m: 'ImageDataGenerator' object has no attribute 'flow_from'"
     ]
    }
   ],
   "source": [
    "import os, shutil, glob\n",
    "import numpy as np\n",
    "import matplotlib.pyplot as plt\n",
    "\n",
    "import tensorflow as tf\n",
    "from tensorflow.keras.preprocessing.image import ImageDataGenerator\n",
    "\n",
    "KERNEL_SHAPE=(3,3)\n",
    "IMG_SHAPE=(150,150)\n",
    "BATCH=100\n",
    "EPOCHS=100\n",
    "\n",
    "_URL = \"https://storage.googleapis.com/download.tensorflow.org/example_images/flower_photos.tgz\"\n",
    "\n",
    "zip_file = tf.keras.utils.get_file(origin=_URL,\n",
    "                                    fname=\"flower_photos.tgz\",\n",
    "                                    extract=True)\n",
    "\n",
    "base_dir=os.path.dirname(zip_file)\n",
    "    \n",
    "def plot_image(x_arr, size=100):\n",
    "    #Graph image layout is a square, so size arg must be a perfect square.\n",
    "    fig=plt.figure(figsize=(15,15))\n",
    "    for i, img in zip(range(size), x_arr):    \n",
    "        plt.subplot(np.sqrt(size),np.sqrt(size), i+1)\n",
    "        plt.xticks([])\n",
    "        plt.yticks([])\n",
    "        plt.imshow(img)\n",
    "    plt.tight_layout()\n",
    "    plt.show()\n",
    "\n",
    "def preprocess_data():   \n",
    "    data_gen = ImageDataGenerator(\n",
    "        shear_range=0.2,\n",
    "        rotation_range=40,\n",
    "        width_shift_range=0.2,\n",
    "        height_shift_range=0.2,\n",
    "        zoom_range=0.2,\n",
    "        horizontal_flip=True,\n",
    "        fill_mode='nearest',\n",
    "        rescale=(1./255)\n",
    "    )\n",
    "    val_data_gen = ImageDataGenerator(rescale=1./255)\n",
    "\n",
    "    train_data_gen = data_gen.flow_from_directory(\n",
    "        dir=None,\n",
    "        target_shape=IMG_SHAPE\n",
    "    )\n",
    "\n",
    "\n",
    "\n",
    "def define_model(): \n",
    "    model=tf.keras.Sequential([\n",
    "        tf.keras.layers.Conv2D(32, KERNEL_SHAPE, activation='relu', input_shape=(150,150,3), kernel_initalizer='he_uniform'),\n",
    "        tf.keras.layers.MaxPool2D((2,2)),\n",
    "\n",
    "        tf.keras.layers.Conv2D(64, KERNEL_SHAPE, activation='relu', kernel_initalizer='he_uniform'),\n",
    "        tf.keras.layers.MaxPool2D((2,2)),\n",
    "\n",
    "        tf.keras.layers.Conv2D(128, KERNEL_SHAPE, activation='relu', kernel_initalizer='he_uniform'),\n",
    "        tf.keras.layers.MaxPool2D((2,2)),\n",
    "\n",
    "        tf.keras.layers.Dropout(0.2),\n",
    "        tf.keras.layers.Flatten(),\n",
    "\n",
    "        tf.keras.layers.Dense(512, kernel_initalizer='he_uniform'),\n",
    "        tf.keras.layers.Dense(5, activation='softmax')\n",
    "    ])\n",
    "\n",
    "    model.compile(\n",
    "        optimizer=tf.keras.optimizers.Adam(),\n",
    "        loss=tf.keras.losses.SparseCategoricalCrossentropy(),\n",
    "        metrics=['accuracy']\n",
    "    )\n",
    "    return model\n",
    "\n",
    "\n"
   ]
  },
  {
   "cell_type": "code",
   "execution_count": null,
   "metadata": {},
   "outputs": [],
   "source": []
  }
 ],
 "metadata": {
  "kernelspec": {
   "display_name": "Python 3.10.4 ('data_sci')",
   "language": "python",
   "name": "python3"
  },
  "language_info": {
   "codemirror_mode": {
    "name": "ipython",
    "version": 3
   },
   "file_extension": ".py",
   "mimetype": "text/x-python",
   "name": "python",
   "nbconvert_exporter": "python",
   "pygments_lexer": "ipython3",
   "version": "3.10.4"
  },
  "orig_nbformat": 4,
  "vscode": {
   "interpreter": {
    "hash": "d63963d85136318b9f49e6cdc246fa710d8d44bb87bdde67353211b53794eecd"
   }
  }
 },
 "nbformat": 4,
 "nbformat_minor": 2
}
