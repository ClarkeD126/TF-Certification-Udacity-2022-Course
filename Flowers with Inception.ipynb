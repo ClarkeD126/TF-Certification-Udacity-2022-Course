{
 "cells": [
  {
   "cell_type": "code",
   "execution_count": 5,
   "metadata": {},
   "outputs": [
    {
     "name": "stdout",
     "output_type": "stream",
     "text": [
      "\n",
      "['dandelion', 'daisy', 'tulips', 'sunflowers', 'roses']\n",
      "3670\n"
     ]
    }
   ],
   "source": [
    "import numpy as np\n",
    "import tensorflow_datasets as tfds\n",
    "import tensorflow as tf\n",
    "import tensorflow_hub as hub\n",
    "import matplotlib.pyplot as plt\n",
    "\n",
    "(train_data, val_data), meta = tfds.load('tf_flowers', split=['train[:70%]', 'train[70%:]'], \n",
    "                                        as_supervised=True, with_info=True)\n",
    "num_train=meta.splits['train'].num_examples\n",
    "\n",
    "EPOCHS=5\n",
    "RES=299\n",
    "def define_model():\n",
    "    URL = \"https://tfhub.dev/google/tf2-preview/inception_v3/feature_vector/4\"\n",
    "\n",
    "    model=tf.keras.Sequential([hub.KerasLayer(URL,\n",
    "                        input_shape=(RES,RES,3), trainable=False),\n",
    "                        tf.keras.layers.Dense(5, activation='softmax')])\n",
    "    model.compile(\n",
    "        loss=tf.keras.losses.SparseCategoricalCrossentropy(),\n",
    "        metrics=['accuracy'],\n",
    "        optimizer=tf.keras.optimizers.Adam()\n",
    "    )\n",
    "    return model\n",
    "model=define_model()\n",
    "\n",
    "BATCH=50\n",
    "classes=meta.features['label'].names\n",
    "\n",
    "print('\\n{}\\n{}'.format(classes, num_train))\n",
    "\n",
    "normalize= lambda data,labels: (tf.cast(data/255, tf.float32), labels)\n",
    "train_data, val_data = train_data.shuffle(buffer_size=num_train).map(normalize), val_data.map(normalize)\n",
    "\n",
    "train_batch, val_batch=train_data.batch(BATCH).prefetch(1), val_data.batch(BATCH).prefetch(1)\n",
    "\n",
    "hist=model.fit(\n",
    "    train_batch,\n",
    "    verbose=2,\n",
    "    validation_data=val_batch,\n",
    "    epochs=5\n",
    ")\n",
    "\n",
    "def summarize_model_diagnostics(history):\n",
    "    loss, acc = history.history['loss'], history.history['accuracy']\n",
    "    val_loss, val_acc = history.history['val_loss'], history.history['val_accuracy']\n",
    "    fig, ax=plt.subplots(1,2, figsize=(20,10))\n",
    "    ax[1].plot(range(EPOCHS), loss, label='loss',color='blue')\n",
    "    ax[1].plot(range(EPOCHS), val_loss, label='val loss', color='r')\n",
    "    ax[1].legend(loc='upper right')\n",
    "    ax[1].set_title('Loss')\n",
    "\n",
    "    ax[0].plot(range(EPOCHS), acc, label='accuracy',color='blue')\n",
    "    ax[0].plot(range(EPOCHS), val_acc, label='val accuracy', color='r')\n",
    "    ax[0].legend(loc='upper right')\n",
    "    ax[0].set_title('Accuracy')\n",
    "    plt.title('Training & Validation Performance')\n",
    "    plt.tight_layout()\n",
    "    plt.show()\n",
    "\n",
    "summarize_model_diagnostics(hist)"
   ]
  },
  {
   "cell_type": "code",
   "execution_count": null,
   "metadata": {},
   "outputs": [],
   "source": []
  }
 ],
 "metadata": {
  "kernelspec": {
   "display_name": "Python 3.10.4 ('data_sci')",
   "language": "python",
   "name": "python3"
  },
  "language_info": {
   "codemirror_mode": {
    "name": "ipython",
    "version": 3
   },
   "file_extension": ".py",
   "mimetype": "text/x-python",
   "name": "python",
   "nbconvert_exporter": "python",
   "pygments_lexer": "ipython3",
   "version": "3.10.4"
  },
  "orig_nbformat": 4,
  "vscode": {
   "interpreter": {
    "hash": "d63963d85136318b9f49e6cdc246fa710d8d44bb87bdde67353211b53794eecd"
   }
  }
 },
 "nbformat": 4,
 "nbformat_minor": 2
}
