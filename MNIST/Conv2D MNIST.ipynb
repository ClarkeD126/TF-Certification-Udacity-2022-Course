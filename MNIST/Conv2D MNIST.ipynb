{
 "cells": [
  {
   "cell_type": "code",
   "execution_count": null,
   "metadata": {},
   "outputs": [],
   "source": [
    "import matplotlib.pyplot as plt\n",
    "import tensorflow as tf\n",
    "import numpy as np\n",
    "import pandas as pd\n",
    "import tensorflow_datasets as tfds\n",
    "import math as m \n",
    "dataset, meta = tfds.load('fashion_mnist', as_supervised=True, with_info=True)\n",
    "\n",
    "train_data, test_data = dataset['train'], dataset['test']\n",
    "\n",
    "class_names = ['T-shirt/top', 'Trouser', 'Pullover', 'Dress', 'Coat',\n",
    "               'Sandal',      'Shirt',   'Sneaker',  'Bag',   'Ankle boot']\n",
    "\n",
    "num_train_examples = meta.splits['train'].num_examples\n",
    "num_test_examples = meta.splits['test'].num_examples\n",
    "\n",
    "print(\"Train: {} \\n Test: {}\".format(num_train_examples, num_test_examples))\n",
    "\n",
    "def normalize(data, labels):\n",
    "    data=tf.cast(data, tf.float32)\n",
    "    data /= 255\n",
    "    return data, labels\n",
    "\n",
    "train_data, test_data = train_data.map(normalize), test_data.map(normalize)\n",
    "train_data, test_data = train_data.cache(), test_data.cache()\n",
    "\n",
    "model = tf.keras.Sequential([\n",
    "    tf.keras.layers.Conv2D(32, (3,3), padding='same', activation='relu',\n",
    "                            input_shape=(28,28,1)),\n",
    "    tf.keras.layers.MaxPool2D((2,2), strides=2),\n",
    "    tf.keras.layers.Conv2D(64, (3,3), padding='same', activation='relu'),\n",
    "    tf.keras.layers.MaxPool2D((2,2), strides=2),\n",
    "    tf.keras.layers.Flatten(),\n",
    "    tf.keras.layers.Dense(128, activation='relu'),\n",
    "    tf.keras.layers.Dense(10, activation='softmax')\n",
    "])\n",
    "\n",
    "model.compile(optimizer='adam', \n",
    "    loss=tf.keras.losses.SparseCategoricalCrossentropy(),\n",
    "    metrics=['accuracy'])\n",
    "\n",
    "batch=42\n",
    "train_data = train_data.cache().repeat().shuffle(num_train_examples).batch(batch)\n",
    "test_data = test_data.cache().repeat().batch(batch)\n",
    "\n",
    "model.fit(train_data, epochs=10, steps_per_epoch=m.ceil(num_train_examples/batch), verbose=2)\n",
    "\n",
    "loss, test_acc = model.evaluate(test_data, steps=m.ceil(num_test_examples/32), verbose=2)\n"
   ]
  }
 ],
 "metadata": {
  "kernelspec": {
   "display_name": "Python 3.10.4 ('data_sci')",
   "language": "python",
   "name": "python3"
  },
  "language_info": {
   "name": "python",
   "version": "3.10.4"
  },
  "orig_nbformat": 4,
  "vscode": {
   "interpreter": {
    "hash": "d63963d85136318b9f49e6cdc246fa710d8d44bb87bdde67353211b53794eecd"
   }
  }
 },
 "nbformat": 4,
 "nbformat_minor": 2
}
