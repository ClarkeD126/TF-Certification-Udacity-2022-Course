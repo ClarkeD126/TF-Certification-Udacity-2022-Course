{
 "cells": [
  {
   "cell_type": "code",
   "execution_count": 14,
   "metadata": {},
   "outputs": [
    {
     "name": "stdout",
     "output_type": "stream",
     "text": [
      "Epoch 1/5\n",
      "1875/1875 [==============================] - 2s 926us/step - loss: 0.5196 - accuracy: 0.8200\n",
      "Epoch 2/5\n",
      "1875/1875 [==============================] - 2s 907us/step - loss: 0.3969 - accuracy: 0.8572\n",
      "Epoch 3/5\n",
      "1875/1875 [==============================] - 2s 898us/step - loss: 0.3552 - accuracy: 0.8720\n",
      "Epoch 4/5\n",
      "1875/1875 [==============================] - 2s 903us/step - loss: 0.3284 - accuracy: 0.8794\n",
      "Epoch 5/5\n",
      "1875/1875 [==============================] - 2s 903us/step - loss: 0.3138 - accuracy: 0.8849\n",
      "313/313 - 0s - loss: 0.3741 - accuracy: 0.8644 - 274ms/epoch - 876us/step\n",
      "0.8644000291824341\n",
      "313/313 [==============================] - 0s 628us/step\n"
     ]
    },
    {
     "data": {
      "text/plain": [
       "'\\nnum_rows, num_columns = 10, 10\\nnum_images = num_rows * num_columns\\nplt.figure(figsize=(4*num_columns, 2*num_rows))\\nfor i in range(num_images):\\n    plt.subplot(num_rows, 2*num_columns, 2*i+1)\\n    plot_image(i, predictions[i], test_labels, test_data)\\n    plt.subplot(num_rows, 2*num_columns, 2*i+2)\\n    plot_value_array(i, predictions[i], test_labels)\\nplt.tight_layout()\\nplt.show()'"
      ]
     },
     "execution_count": 14,
     "metadata": {},
     "output_type": "execute_result"
    }
   ],
   "source": [
    "import tensorflow as tf\n",
    "import numpy as np\n",
    "import matplotlib.pyplot as plt\n",
    "\n",
    "fashion_mnist = tf.keras.datasets.fashion_mnist\n",
    "\n",
    "(train_data, train_labels), (test_data, test_labels) = fashion_mnist.load_data()\n",
    "\n",
    "class_names = ['T-shirt/top', 'Trouser', 'Pullover', 'Dress', 'Coat',\n",
    "               'Sandal', 'Shirt', 'Sneaker', 'Bag', 'Ankle boot']\n",
    "\n",
    "train_data, test_data = train_data/255, test_data/255\n",
    "\n",
    "model = tf.keras.Sequential([\n",
    "    tf.keras.layers.Flatten(input_shape=(28,28)),\n",
    "    tf.keras.layers.Dense(64,use_bias=True,\n",
    "    activation='relu'),\n",
    "    tf.keras.layers.Dense(10)\n",
    "])\n",
    "\n",
    "model.compile(optimizer=tf.keras.optimizers.Adam(0.00125), \n",
    "    loss=tf.keras.losses.SparseCategoricalCrossentropy(from_logits=True),\n",
    "    metrics=['accuracy']\n",
    "    )\n",
    "\n",
    "model.fit(train_data, train_labels, epochs=5)\n",
    "\n",
    "test_loss, test_acc = model.evaluate(test_data, test_labels, verbose=2)\n",
    "print(test_acc)\n",
    "\n",
    "probability_model= tf.keras.Sequential([model, tf.keras.layers.Softmax()])\n",
    "predictions=probability_model.predict(test_data)\n",
    "\n",
    "def plot_image(i, predictions_array, true_label, img):\n",
    "  true_label, img = true_label[i], img[i]\n",
    "  plt.grid(False)\n",
    "  plt.xticks([])\n",
    "  plt.yticks([])\n",
    "\n",
    "  plt.imshow(img, cmap=plt.cm.binary)\n",
    "\n",
    "  predicted_label = np.argmax(predictions_array)\n",
    "  if predicted_label == true_label:\n",
    "    color = 'blue'\n",
    "  else:\n",
    "    color = 'red'\n",
    "\n",
    "  plt.xlabel(\"{} {:2.0f}% ({})\".format(class_names[predicted_label],\n",
    "                                100*np.max(predictions_array),\n",
    "                                class_names[true_label]),\n",
    "                                color=color)\n",
    "\n",
    "def plot_value_array(i, predictions_array, true_label):\n",
    "  true_label = true_label[i]\n",
    "  plt.grid(False)\n",
    "  plt.xticks(range(10))\n",
    "  plt.yticks([])\n",
    "  thisplot = plt.bar(range(10), predictions_array, color=\"#777777\")\n",
    "  plt.ylim([0, 1])\n",
    "  predicted_label = np.argmax(predictions_array)\n",
    "  thisplot[predicted_label].set_color('red')\n",
    "  thisplot[true_label].set_color('blue')\n",
    "\"\"\"\n",
    "num_rows, num_columns = 10, 10\n",
    "num_images = num_rows * num_columns\n",
    "plt.figure(figsize=(4*num_columns, 2*num_rows))\n",
    "for i in range(num_images):\n",
    "    plt.subplot(num_rows, 2*num_columns, 2*i+1)\n",
    "    plot_image(i, predictions[i], test_labels, test_data)\n",
    "    plt.subplot(num_rows, 2*num_columns, 2*i+2)\n",
    "    plot_value_array(i, predictions[i], test_labels)\n",
    "plt.tight_layout()\n",
    "plt.show()\"\"\"\n"
   ]
  },
  {
   "cell_type": "code",
   "execution_count": 139,
   "metadata": {},
   "outputs": [
    {
     "name": "stdout",
     "output_type": "stream",
     "text": [
      "{0: 172, 1: 44, 2: 200, 3: 86, 4: 168, 5: 72, 6: 326, 7: 71, 8: 29, 9: 22}\n",
      "0.881\n"
     ]
    },
    {
     "data": {
      "image/png": "[encoded data removed]",
      "text/plain": [
       "<Figure size 1080x1080 with 1 Axes>"
      ]
     },
     "metadata": {
      "needs_background": "light"
     },
     "output_type": "display_data"
    }
   ],
   "source": [
    "import collections\n",
    "#predict=collections.Counter(predictions)\n",
    "#labels=collections.Counter(test_labels.flatten())\n",
    "#sort=sorted(predict.items(), key=lambda kv: (kv[1], kv[0]))\n",
    "x=10000\n",
    "def count_errors(x, labels):\n",
    "    \"\"\"Returns dict\"\"\"\n",
    "    error_dict={a: 0 for a in range(10)} \n",
    "    for i in range(x):\n",
    "        label = labels[i]\n",
    "        if label != np.argmax(predictions[i]): error_dict[label] += 1\n",
    "    return error_dict\n",
    "errors = count_errors(x, test_labels)\n",
    "print(errors)\n",
    "errors_items_list=[error for error in errors.values()]\n",
    "plt.figure(figsize=(15,15))\n",
    "plt.bar(range(10), errors_items_list)\n",
    "plt.xticks(range(10))\n",
    "plt.yticks(range(0, 360, 30))\n",
    "acc= (x-sum(errors_items_list)) / x\n",
    "print(acc)"
   ]
  },
  {
   "cell_type": "code",
   "execution_count": null,
   "metadata": {},
   "outputs": [],
   "source": []
  },
  {
   "cell_type": "code",
   "execution_count": null,
   "metadata": {},
   "outputs": [],
   "source": []
  }
 ],
 "metadata": {
  "kernelspec": {
   "display_name": "Python 3.10.4 ('data_sci')",
   "language": "python",
   "name": "python3"
  },
  "language_info": {
   "codemirror_mode": {
    "name": "ipython",
    "version": 3
   },
   "file_extension": ".py",
   "mimetype": "text/x-python",
   "name": "python",
   "nbconvert_exporter": "python",
   "pygments_lexer": "ipython3",
   "version": "3.10.4"
  },
  "orig_nbformat": 4,
  "vscode": {
   "interpreter": {
    "hash": "d63963d85136318b9f49e6cdc246fa710d8d44bb87bdde67353211b53794eecd"
   }
  }
 },
 "nbformat": 4,
 "nbformat_minor": 2
}
