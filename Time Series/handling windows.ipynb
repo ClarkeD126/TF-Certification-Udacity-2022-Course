{
 "cells": [
  {
   "cell_type": "code",
   "execution_count": 15,
   "metadata": {},
   "outputs": [
    {
     "name": "stdout",
     "output_type": "stream",
     "text": [
      "0\n",
      "1\n",
      "2\n",
      "3\n",
      "4\n",
      "5\n",
      "6\n",
      "7\n",
      "8\n",
      "9\n"
     ]
    }
   ],
   "source": [
    "import tensorflow as tf\n",
    "import tensorflow.data as d\n",
    "import tensorflow.keras.layers as n\n",
    "ds = d.Dataset.range(10)\n",
    "for val in ds:\n",
    "    print(val.numpy())"
   ]
  },
  {
   "cell_type": "code",
   "execution_count": 16,
   "metadata": {},
   "outputs": [
    {
     "name": "stdout",
     "output_type": "stream",
     "text": [
      "0 1 2 3 4 \n",
      "1 2 3 4 5 \n",
      "2 3 4 5 6 \n",
      "3 4 5 6 7 \n",
      "4 5 6 7 8 \n",
      "5 6 7 8 9 \n",
      "6 7 8 9 \n",
      "7 8 9 \n",
      "8 9 \n",
      "9 \n"
     ]
    }
   ],
   "source": [
    "ds_0=ds.window(5, shift=1)\n",
    "for window_ds in ds_0:\n",
    "    for val in window_ds:\n",
    "        print(val.numpy(), end=\" \")\n",
    "    print()"
   ]
  },
  {
   "cell_type": "code",
   "execution_count": 17,
   "metadata": {},
   "outputs": [
    {
     "name": "stdout",
     "output_type": "stream",
     "text": [
      "0 1 2 3 4 \n",
      "1 2 3 4 5 \n",
      "2 3 4 5 6 \n",
      "3 4 5 6 7 \n",
      "4 5 6 7 8 \n",
      "5 6 7 8 9 \n"
     ]
    }
   ],
   "source": [
    "ds_1=ds.window(5, shift=1, drop_remainder=True)\n",
    "for window_ds in ds_1:\n",
    "    for val in window_ds:\n",
    "        print(val.numpy(), end=\" \")\n",
    "    print()"
   ]
  },
  {
   "cell_type": "code",
   "execution_count": 18,
   "metadata": {},
   "outputs": [
    {
     "name": "stdout",
     "output_type": "stream",
     "text": [
      "[0 1 2 3 4]\n",
      "[1 2 3 4 5]\n",
      "[2 3 4 5 6]\n",
      "[3 4 5 6 7]\n",
      "[4 5 6 7 8]\n",
      "[5 6 7 8 9]\n"
     ]
    }
   ],
   "source": [
    "ds_2=ds_1.flat_map(lambda window: window.batch(5))\n",
    "#Single tensor units for dataset\n",
    "for window in ds_2:\n",
    "    print(window.numpy())"
   ]
  },
  {
   "cell_type": "code",
   "execution_count": 19,
   "metadata": {},
   "outputs": [
    {
     "name": "stdout",
     "output_type": "stream",
     "text": [
      "[0 1 2 3] [4]\n",
      "[1 2 3 4] [5]\n",
      "[2 3 4 5] [6]\n",
      "[3 4 5 6] [7]\n",
      "[4 5 6 7] [8]\n",
      "[5 6 7 8] [9]\n"
     ]
    }
   ],
   "source": [
    "ds_3 = ds_2.map(lambda window: (window[:-1], window[-1:]))\n",
    "for x,y in ds_3: print(x.numpy(), y.numpy())"
   ]
  },
  {
   "cell_type": "code",
   "execution_count": 20,
   "metadata": {},
   "outputs": [
    {
     "name": "stdout",
     "output_type": "stream",
     "text": [
      "[1 2 3 4] [5]\n",
      "[4 5 6 7] [8]\n",
      "[2 3 4 5] [6]\n",
      "[5 6 7 8] [9]\n",
      "[3 4 5 6] [7]\n",
      "[0 1 2 3] [4]\n"
     ]
    }
   ],
   "source": [
    "ds_4=ds_3.shuffle(buffer_size=10)\n",
    "for x,y in ds_4: print(x.numpy(), y.numpy())"
   ]
  },
  {
   "cell_type": "code",
   "execution_count": 26,
   "metadata": {},
   "outputs": [
    {
     "name": "stdout",
     "output_type": "stream",
     "text": [
      "x: [[5 6 7 8]\n",
      " [3 4 5 6]]\n",
      "y: [[9]\n",
      " [7]]\n",
      "x: [[4 5 6 7]\n",
      " [1 2 3 4]]\n",
      "y: [[8]\n",
      " [5]]\n",
      "x: [[0 1 2 3]\n",
      " [2 3 4 5]]\n",
      "y: [[4]\n",
      " [6]]\n"
     ]
    }
   ],
   "source": [
    "ds_5 = ds_4.batch(2).prefetch(1)\n",
    "for x,y in ds_5:\n",
    "    print(\"x: {}\".format(x.numpy()))\n",
    "    print(\"y: {}\".format(y.numpy()))"
   ]
  },
  {
   "cell_type": "code",
   "execution_count": null,
   "metadata": {},
   "outputs": [],
   "source": []
  }
 ],
 "metadata": {
  "kernelspec": {
   "display_name": "Python 3.10.4 ('data_sci')",
   "language": "python",
   "name": "python3"
  },
  "language_info": {
   "codemirror_mode": {
    "name": "ipython",
    "version": 3
   },
   "file_extension": ".py",
   "mimetype": "text/x-python",
   "name": "python",
   "nbconvert_exporter": "python",
   "pygments_lexer": "ipython3",
   "version": "3.10.4"
  },
  "orig_nbformat": 4,
  "vscode": {
   "interpreter": {
    "hash": "d63963d85136318b9f49e6cdc246fa710d8d44bb87bdde67353211b53794eecd"
   }
  }
 },
 "nbformat": 4,
 "nbformat_minor": 2
}
